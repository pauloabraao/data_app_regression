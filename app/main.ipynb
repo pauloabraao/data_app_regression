{
 "cells": [
  {
   "cell_type": "code",
   "execution_count": 25,
   "id": "df39f67a",
   "metadata": {},
   "outputs": [],
   "source": [
    "import pandas as pd\n",
    "import os"
   ]
  },
  {
   "cell_type": "code",
   "execution_count": 26,
   "id": "78c355b1",
   "metadata": {},
   "outputs": [],
   "source": [
    "input_path = \"data/datatran2025.csv\"\n",
    "output_path = \"data/datatran2025_tratado.csv\""
   ]
  },
  {
   "cell_type": "code",
   "execution_count": null,
   "id": "5365213a",
   "metadata": {},
   "outputs": [
    {
     "name": "stdout",
     "output_type": "stream",
     "text": [
      "✅ Dataset tratado salvo em: data/datatran2025_tratado.csv\n",
      "📊 Formato final: 34705 linhas, 14 colunas\n"
     ]
    }
   ],
   "source": [
    "# Colunas numéricas que serão mantidas\n",
    "colunas_numericas = [\n",
    "    \"pessoas\", \"mortos\", \"feridos_leves\", \"feridos_graves\",\n",
    "    \"ilesos\", \"ignorados\", \"feridos\", \"veiculos\"\n",
    "]\n",
    "\n",
    "# Colunas categóricas a serem codificadas\n",
    "colunas_para_codificar = [\n",
    "    \"dia_semana\"\n",
    "]\n",
    "\n",
    "# Carregar o dataset original\n",
    "df = pd.read_csv(input_path, encoding=\"ISO-8859-1\", delimiter=\";\")\n",
    "\n",
    "# Manter somente as colunas de interesse\n",
    "df_selecionado = df[colunas_numericas + colunas_para_codificar]\n",
    "\n",
    "# Remover linhas com valores nulos nas colunas selecionadas\n",
    "df_selecionado = df_selecionado.dropna(subset=colunas_numericas + colunas_para_codificar)\n",
    "\n",
    "# Aplicar One-Hot Encoding\n",
    "df_codificado = pd.get_dummies(df_selecionado, columns=colunas_para_codificar, drop_first=True)\n",
    "df_codificado = df_codificado.astype(int)\n",
    "\n",
    "\n",
    "# Garantir que a pasta de destino exista\n",
    "os.makedirs(os.path.dirname(output_path), exist_ok=True)\n",
    "\n",
    "# Salvar o novo dataset tratado\n",
    "df_codificado.to_csv(output_path, index=False, encoding=\"utf-8\")\n",
    "\n",
    "print(f\"✅ Dataset tratado salvo em: {output_path}\")\n",
    "print(f\"📊 Formato final: {df_codificado.shape[0]} linhas, {df_codificado.shape[1]} colunas\")"
   ]
  }
 ],
 "metadata": {
  "kernelspec": {
   "display_name": "Python 3",
   "language": "python",
   "name": "python3"
  },
  "language_info": {
   "codemirror_mode": {
    "name": "ipython",
    "version": 3
   },
   "file_extension": ".py",
   "mimetype": "text/x-python",
   "name": "python",
   "nbconvert_exporter": "python",
   "pygments_lexer": "ipython3",
   "version": "3.11.8"
  }
 },
 "nbformat": 4,
 "nbformat_minor": 5
}
